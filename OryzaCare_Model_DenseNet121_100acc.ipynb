{
  "cells": [
    {
      "cell_type": "code",
      "execution_count": 1,
      "metadata": {
        "id": "3wK2ObEIKsq8"
      },
      "outputs": [],
      "source": [
        "import zipfile\n",
        "import os\n",
        "import random\n",
        "import shutil\n",
        "import matplotlib.pyplot as plt\n",
        "import shutil\n",
        "import random\n",
        "import tensorflow as tf\n",
        "from PIL import Image\n",
        "from google.colab import drive\n",
        "import matplotlib.image as mpimg\n",
        "from tensorflow.keras.applications.inception_v3 import InceptionV3\n",
        "\n",
        "from tensorflow.keras.preprocessing.image import ImageDataGenerator\n",
        "import numpy as np\n",
        "\n"
      ]
    },
    {
      "cell_type": "code",
      "source": [
        "import tensorflow_datasets as tfds"
      ],
      "metadata": {
        "id": "2BTrDimFVAvA"
      },
      "execution_count": 2,
      "outputs": []
    },
    {
      "cell_type": "code",
      "execution_count": 3,
      "metadata": {
        "colab": {
          "base_uri": "https://localhost:8080/"
        },
        "id": "XmsXu_Rm30PR",
        "outputId": "0100fe0b-ff5d-4a13-c707-f72cd2e2a59b"
      },
      "outputs": [
        {
          "output_type": "stream",
          "name": "stdout",
          "text": [
            "Mounted at /content/gdrive\n",
            "/content/gdrive/My Drive/Kaggle\n"
          ]
        }
      ],
      "source": [
        "# Mount Drive into Collab\n",
        "\n",
        "drive.mount('/content/gdrive')\n",
        "os.environ['KAGGLE_CONFIG_DIR'] = \"/content/gdrive/My Drive/Kaggle\"\n",
        "\n",
        "%cd /content/gdrive/My Drive/Kaggle"
      ]
    },
    {
      "cell_type": "code",
      "execution_count": null,
      "metadata": {
        "id": "wSaMUZ8m4fNO",
        "colab": {
          "base_uri": "https://localhost:8080/"
        },
        "outputId": "b72900a2-c8c1-45ac-dd6b-bd3dc47fa583"
      },
      "outputs": [
        {
          "output_type": "stream",
          "name": "stdout",
          "text": [
            "Downloading rice-leaf-diseases.zip to /content/gdrive/My Drive/Kaggle\n",
            " 87% 32.0M/36.7M [00:00<00:00, 94.8MB/s]\n",
            "100% 36.7M/36.7M [00:00<00:00, 79.8MB/s]\n"
          ]
        }
      ],
      "source": [
        "# Download the Datasets\n",
        "\n",
        "!kaggle datasets download -d vbookshelf/rice-leaf-diseases"
      ]
    },
    {
      "cell_type": "code",
      "execution_count": null,
      "metadata": {
        "id": "bL-9GIXm1ZQN"
      },
      "outputs": [],
      "source": [
        "# Extract the archive\n",
        "local_zip = './rice-leaf-diseases.zip'\n",
        "zip_ref = zipfile.ZipFile(local_zip, 'r')\n",
        "zip_ref.extractall('./')\n",
        "zip_ref.close()"
      ]
    },
    {
      "cell_type": "code",
      "source": [
        "!pip install split-folders"
      ],
      "metadata": {
        "colab": {
          "base_uri": "https://localhost:8080/"
        },
        "id": "PRsgkIPouGC5",
        "outputId": "68fdda73-f2a6-4c93-85d0-80b8a1ffef8b"
      },
      "execution_count": null,
      "outputs": [
        {
          "output_type": "stream",
          "name": "stdout",
          "text": [
            "Collecting split-folders\n",
            "  Downloading split_folders-0.5.1-py3-none-any.whl (8.4 kB)\n",
            "Installing collected packages: split-folders\n",
            "Successfully installed split-folders-0.5.1\n"
          ]
        }
      ]
    },
    {
      "cell_type": "code",
      "source": [
        "import splitfolders\n",
        "\n",
        "# Define the source and destination directories\n",
        "source_folder = './rice_leaf_diseases'\n",
        "output_folder = './rice_leaf_diseases'\n",
        "\n",
        "# Split the data into train (70%), validation (30%)\n",
        "splitfolders.ratio(source_folder, output=output_folder, seed=42, ratio=(0.8, 0.2), group_prefix=None)"
      ],
      "metadata": {
        "colab": {
          "base_uri": "https://localhost:8080/"
        },
        "id": "-v0R5TxruAu_",
        "outputId": "efe41e77-1fc0-4b7c-d0a0-112463635fe9"
      },
      "execution_count": null,
      "outputs": [
        {
          "output_type": "stream",
          "name": "stderr",
          "text": [
            "Copying files: 120 files [00:01, 109.79 files/s]\n"
          ]
        }
      ]
    },
    {
      "cell_type": "code",
      "source": [
        "# Initializing the path of images\n",
        "\n",
        "baseDir = './rice_leaf_diseases/'\n",
        "trainDir = './rice_leaf_diseases/train'\n",
        "valDir = './rice_leaf_diseases/val'\n",
        "subfolders = [\"Leaf smut\", \"Brown spot\", \"Bacterial leaf blight\"]"
      ],
      "metadata": {
        "id": "PT3SEg1wnu17"
      },
      "execution_count": 4,
      "outputs": []
    },
    {
      "cell_type": "code",
      "execution_count": 32,
      "metadata": {
        "id": "4AkuWUu5Gulc"
      },
      "outputs": [],
      "source": [
        "# Count sum Images\n",
        "\n",
        "BacterialTrainDir = os.path.join(trainDir, 'Bacterial leaf blight')\n",
        "brownSpotTrainDir = os.path.join(trainDir, 'Brown spot')\n",
        "leafBlastTrainDir = os.path.join(trainDir, 'Leaf smut')\n",
        "\n",
        "BacterialValDir = os.path.join(valDir, 'Bacterial leaf blight')\n",
        "brownSpotValDir = os.path.join(valDir, 'Brown spot')\n",
        "leafBlastValDir = os.path.join(valDir, 'Leaf smut')"
      ]
    },
    {
      "cell_type": "code",
      "execution_count": 36,
      "metadata": {
        "colab": {
          "base_uri": "https://localhost:8080/"
        },
        "id": "4fxhnfPfOaA1",
        "outputId": "92472747-7fd8-4c26-8523-c1a29de6f7bf"
      },
      "outputs": [
        {
          "output_type": "stream",
          "name": "stdout",
          "text": [
            "total training Bacterial leaf blight images: 32\n",
            "total training brown spot images:\t 32\n",
            "total training Leaf smut images:\t 32 \n",
            "\n",
            "total validation Bacterial leaf blight images: 8\n",
            "total validation brown spot images:\t 8\n",
            "total validation Leaf smut images:\t 8 \n",
            "\n",
            "total all images:\t\t\t 120\n",
            "total training images:\t\t\t 96\n",
            "total training in percent:\t\t 80.0 %\n",
            "total validation images:\t\t 24\n",
            "total validation in percent:\t\t 20.0 %\n",
            "image shape:\t\t\t\t (371, 1530, 3)\n"
          ]
        }
      ],
      "source": [
        "# Count the Sum of Images\n",
        "\n",
        "lenBrownSpotTrain = len(os.listdir(brownSpotTrainDir))\n",
        "lenBacterialTrain = len(os.listdir(BacterialTrainDir))\n",
        "lenLeafBlastTrain = len(os.listdir(leafBlastTrainDir))\n",
        "lenBrownSpotVal = len(os.listdir(brownSpotValDir))\n",
        "lenBacterialVal = len(os.listdir(BacterialValDir))\n",
        "lenLeafBlastVal = len(os.listdir(leafBlastValDir))\n",
        "sumAllImages =  lenBrownSpotTrain+lenBacterialTrain+lenLeafBlastTrain+lenBrownSpotVal+lenBacterialVal+lenLeafBlastVal\n",
        "\n",
        "print('total training Bacterial leaf blight images:', lenBacterialTrain)\n",
        "print('total training brown spot images:\\t', lenBrownSpotTrain)\n",
        "print('total training Leaf smut images:\\t', lenLeafBlastTrain, '\\n')\n",
        "\n",
        "print('total validation Bacterial leaf blight images:', lenBacterialVal)\n",
        "print('total validation brown spot images:\\t', lenBrownSpotVal)\n",
        "print('total validation Leaf smut images:\\t', lenLeafBlastVal, '\\n')\n",
        "\n",
        "print('total all images:\\t\\t\\t',  sumAllImages)\n",
        "print('total training images:\\t\\t\\t', lenBrownSpotTrain+lenBacterialTrain+lenLeafBlastTrain)\n",
        "print('total training in percent:\\t\\t', (lenBrownSpotTrain+lenBacterialTrain+lenLeafBlastTrain)/sumAllImages*100, '%')\n",
        "print('total validation images:\\t\\t', lenBrownSpotVal+lenBacterialVal+lenLeafBlastVal)\n",
        "print('total validation in percent:\\t\\t', (lenBrownSpotVal+lenBacterialVal+lenLeafBlastVal)/sumAllImages*100, '%')\n",
        "\n",
        "img_path = os.path.join(brownSpotTrainDir, os.listdir(brownSpotTrainDir)[0])\n",
        "img = mpimg.imread(img_path)\n",
        "print('image shape:\\t\\t\\t\\t', img.shape)"
      ]
    },
    {
      "cell_type": "code",
      "execution_count": 15,
      "metadata": {
        "colab": {
          "base_uri": "https://localhost:8080/"
        },
        "id": "SpW1XfdN1hZM",
        "outputId": "b2c803e3-43a4-489b-eb8b-9560ee2fc4c1"
      },
      "outputs": [
        {
          "output_type": "stream",
          "name": "stdout",
          "text": [
            "Found 96 images belonging to 3 classes.\n",
            "Found 24 images belonging to 3 classes.\n"
          ]
        }
      ],
      "source": [
        "from tensorflow.keras.preprocessing.image import ImageDataGenerator\n",
        "\n",
        "training_datagen = ImageDataGenerator(\n",
        "    rescale = 1./255,\n",
        "    rotation_range=40,\n",
        "    width_shift_range=0.3,\n",
        "    height_shift_range=0.3,\n",
        "    shear_range=0.2,\n",
        "    zoom_range=0.2,\n",
        "    horizontal_flip=True,\n",
        "    vertical_flip=True)\n",
        "\n",
        "validation_datagen = ImageDataGenerator(rescale = 1./255)\n",
        "\n",
        "train_generator = training_datagen.flow_from_directory(\n",
        "\ttrainDir,\n",
        "\ttarget_size=(224,224),\n",
        "  batch_size=32,\n",
        "\tclass_mode='categorical'\n",
        ")\n",
        "\n",
        "validation_generator = validation_datagen.flow_from_directory(\n",
        "\tvalDir,\n",
        "\ttarget_size=(224,224),\n",
        "  batch_size=32,\n",
        "\tclass_mode='categorical'\n",
        ")"
      ]
    },
    {
      "cell_type": "code",
      "source": [
        "premodel = tf.keras.applications.DenseNet121(input_shape=(224,224,3), include_top=False, weights='imagenet')\n",
        "\n",
        "# premodel.summary()"
      ],
      "metadata": {
        "id": "s_MKHdCRElH3",
        "colab": {
          "base_uri": "https://localhost:8080/"
        },
        "outputId": "d8c0f863-9e4a-4f25-9d8d-dd51fdf3ea0e"
      },
      "execution_count": 7,
      "outputs": [
        {
          "output_type": "stream",
          "name": "stdout",
          "text": [
            "Downloading data from https://storage.googleapis.com/tensorflow/keras-applications/densenet/densenet121_weights_tf_dim_ordering_tf_kernels_notop.h5\n",
            "29084464/29084464 [==============================] - 0s 0us/step\n"
          ]
        }
      ]
    },
    {
      "cell_type": "code",
      "execution_count": null,
      "metadata": {
        "id": "nCvw5P_8V3Hs"
      },
      "outputs": [],
      "source": [
        "# !wget --no-check-certificate \\\n",
        "#     https://storage.googleapis.com/mledu-datasets/inception_v3_weights_tf_dim_ordering_tf_kernels_notop.h5 \\\n",
        "#     -O /tmp/inception_v3_weights_tf_dim_ordering_tf_kernels_notop.h5"
      ]
    },
    {
      "cell_type": "code",
      "execution_count": null,
      "metadata": {
        "id": "lnPztBmOV8L3"
      },
      "outputs": [],
      "source": [
        "# local_weights_file = '/tmp/inception_v3_weights_tf_dim_ordering_tf_kernels_notop.h5'\n",
        "\n",
        "# inception = InceptionV3(include_top=False,\n",
        "#                         input_shape=(150, 150, 3),\n",
        "#                         weights=None)\n",
        "# inception.load_weights(local_weights_file)\n",
        "\n",
        "# for layer in inception.layers:\n",
        "#   layer.trainable= False\n",
        "\n",
        "# inception.summary()"
      ]
    },
    {
      "cell_type": "code",
      "execution_count": null,
      "metadata": {
        "id": "hu5SLQeSpMWK"
      },
      "outputs": [],
      "source": [
        "# import tensorflow as tf\n",
        "\n",
        "# model = tf.keras.models.Sequential([\n",
        "#     # Note the input shape is the desired size of the image 150x150 with 3 bytes color\n",
        "#     # This is the first convolution\n",
        "#     tf.keras.layers.Conv2D(64, (3,3), activation='relu', input_shape=(224, 224, 3)),\n",
        "#     tf.keras.layers.MaxPooling2D(2, 2),\n",
        "\n",
        "#     # The second convolution\n",
        "#     tf.keras.layers.Conv2D(64, (3,3), activation='relu'),\n",
        "#     tf.keras.layers.MaxPooling2D(2,2),\n",
        "\n",
        "#     # # The third convolution\n",
        "#     # tf.keras.layers.Conv2D(128, (3,3), activation='relu'),\n",
        "#     # tf.keras.layers.MaxPooling2D(2,2),\n",
        "\n",
        "#     # # The fourth convolution\n",
        "#     # tf.keras.layers.Conv2D(128, (3,3), activation='relu'),\n",
        "#     # tf.keras.layers.MaxPooling2D(2,2),\n",
        "\n",
        "#     # Flatten the results to feed into a DNN\n",
        "#     tf.keras.layers.Flatten(),\n",
        "#     tf.keras.layers.Dropout(0.5),\n",
        "\n",
        "#     # 512 neuron hidden layer\n",
        "#     tf.keras.layers.Dense(512, activation='relu'),\n",
        "#     tf.keras.layers.Dense(4, activation='softmax')\n",
        "# ])\n",
        "\n",
        "# # Print the model summary\n",
        "# model.summary()"
      ]
    },
    {
      "cell_type": "code",
      "execution_count": null,
      "metadata": {
        "id": "cIy4ZosvXb81"
      },
      "outputs": [],
      "source": [
        "# last_layer = inception.get_layer('mixed7')\n",
        "# last_output = last_layer.output"
      ]
    },
    {
      "cell_type": "code",
      "execution_count": 8,
      "metadata": {
        "id": "nhETDpmGXI_p"
      },
      "outputs": [],
      "source": [
        "from tensorflow.keras import Model\n",
        "\n",
        "inputs = premodel.input\n",
        "\n",
        "x = tf.keras.layers.Flatten()(premodel.output)\n",
        "x = tf.keras.layers.Dense(1024, activation='relu')(x)\n",
        "x = tf.keras.layers.BatchNormalization()(x)\n",
        "x = tf.keras.layers.Dropout(0.2)(x)\n",
        "\n",
        "outputs = tf.keras.layers.Dense(3, activation='softmax')(x)\n",
        "\n",
        "model = tf.keras.Model(inputs=inputs, outputs=outputs)\n",
        "\n",
        "###################################################################################\n",
        "\n",
        "# x = tf.keras.layers.Flatten()(last_output)\n",
        "# x = tf.keras.layers.Dense(1024, activation='relu')(x)\n",
        "# x = tf.keras.layers.Dropout(0.2)(x)\n",
        "# x = tf.keras.layers.Dense(4, activation='softmax')(x)\n",
        "\n",
        "# model = Model(inception.input, x)\n",
        "\n",
        "###################################################################################\n",
        "\n",
        "# model = tf.keras.models.Sequential([\n",
        "#     # Note the input shape is the desired size of the image 150x150 with 3 bytes color\n",
        "#     # This is the first convolution\n",
        "#     tf.keras.layers.Conv2D(64, (3,3), activation='relu', input_shape=(150, 150, 3)),\n",
        "#     tf.keras.layers.MaxPooling2D(2, 2),\n",
        "#     # The second convolution\n",
        "#     tf.keras.layers.Conv2D(64, (3,3), activation='relu'),\n",
        "#     tf.keras.layers.MaxPooling2D(2,2),\n",
        "#     # The third convolution\n",
        "#     tf.keras.layers.Conv2D(128, (3,3), activation='relu'),\n",
        "#     tf.keras.layers.MaxPooling2D(2,2),\n",
        "#     # The fourth convolution\n",
        "#     tf.keras.layers.Conv2D(128, (3,3), activation='relu'),\n",
        "#     tf.keras.layers.MaxPooling2D(2,2),\n",
        "#     # Flatten the results to feed into a DNN\n",
        "#     tf.keras.layers.Flatten(),\n",
        "#     tf.keras.layers.Dropout(0.5),\n",
        "#     # 512 neuron hidden layer\n",
        "#     tf.keras.layers.Dense(512, activation='relu'),\n",
        "#     tf.keras.layers.Dense(4, activation='softmax')\n",
        "# ])\n",
        "\n",
        "# model.summary()"
      ]
    },
    {
      "cell_type": "code",
      "execution_count": 16,
      "metadata": {
        "id": "1fQl6ICrvIWT"
      },
      "outputs": [],
      "source": [
        "# Set the training parameters\n",
        "model.compile(loss = 'categorical_crossentropy', optimizer=tf.keras.optimizers.Adam(learning_rate=0.0001), metrics=['accuracy'])"
      ]
    },
    {
      "cell_type": "code",
      "execution_count": 17,
      "metadata": {
        "id": "2dlxJo10G-0-"
      },
      "outputs": [],
      "source": [
        "class myCallback(tf.keras.callbacks.Callback):\n",
        "  def on_epoch_end(self, epoch, log={}):\n",
        "    if(log.get('accuracy')>0.99) and (log.get('val_accuracy')>0.99):\n",
        "      self.model.stop_training = True\n",
        "      print('\\nThe accuracy has reached  > 99%')\n",
        "\n",
        "callback = myCallback()"
      ]
    },
    {
      "cell_type": "code",
      "execution_count": 18,
      "metadata": {
        "colab": {
          "base_uri": "https://localhost:8080/"
        },
        "id": "na1ACBXEvihj",
        "outputId": "3eae6fdc-9504-46b5-82c7-ac31e0b64db2"
      },
      "outputs": [
        {
          "output_type": "stream",
          "name": "stdout",
          "text": [
            "Epoch 1/100\n",
            "3/3 [==============================] - 61s 2s/step - loss: 0.0475 - accuracy: 0.9792 - val_loss: 2.6064 - val_accuracy: 0.7917\n",
            "Epoch 2/100\n",
            "3/3 [==============================] - 3s 1s/step - loss: 0.0575 - accuracy: 0.9792 - val_loss: 4.6191 - val_accuracy: 0.7500\n",
            "Epoch 3/100\n",
            "3/3 [==============================] - 3s 1s/step - loss: 0.0800 - accuracy: 0.9792 - val_loss: 2.5741 - val_accuracy: 0.7500\n",
            "Epoch 4/100\n",
            "3/3 [==============================] - 4s 2s/step - loss: 0.0175 - accuracy: 0.9896 - val_loss: 1.7321 - val_accuracy: 0.7917\n",
            "Epoch 5/100\n",
            "3/3 [==============================] - 4s 1s/step - loss: 0.1055 - accuracy: 0.9688 - val_loss: 1.4431 - val_accuracy: 0.7500\n",
            "Epoch 6/100\n",
            "3/3 [==============================] - 4s 1s/step - loss: 0.0917 - accuracy: 0.9792 - val_loss: 0.9037 - val_accuracy: 0.7917\n",
            "Epoch 7/100\n",
            "3/3 [==============================] - 3s 1s/step - loss: 0.0015 - accuracy: 1.0000 - val_loss: 0.6273 - val_accuracy: 0.7917\n",
            "Epoch 8/100\n",
            "3/3 [==============================] - 4s 2s/step - loss: 0.2593 - accuracy: 0.9271 - val_loss: 0.0479 - val_accuracy: 0.9583\n",
            "Epoch 9/100\n",
            "3/3 [==============================] - 4s 1s/step - loss: 0.1581 - accuracy: 0.9896 - val_loss: 0.1731 - val_accuracy: 0.9167\n",
            "Epoch 10/100\n",
            "3/3 [==============================] - 3s 1s/step - loss: 0.0227 - accuracy: 0.9896 - val_loss: 0.1756 - val_accuracy: 0.9167\n",
            "Epoch 11/100\n",
            "3/3 [==============================] - 3s 1s/step - loss: 0.0674 - accuracy: 0.9896 - val_loss: 0.0945 - val_accuracy: 0.9167\n",
            "Epoch 12/100\n",
            "3/3 [==============================] - 4s 1s/step - loss: 0.0558 - accuracy: 0.9896 - val_loss: 0.0209 - val_accuracy: 1.0000\n",
            "Epoch 13/100\n",
            "3/3 [==============================] - 4s 1s/step - loss: 0.0012 - accuracy: 1.0000 - val_loss: 0.0547 - val_accuracy: 0.9583\n",
            "Epoch 14/100\n",
            "3/3 [==============================] - 3s 1s/step - loss: 0.0658 - accuracy: 0.9792 - val_loss: 0.0118 - val_accuracy: 1.0000\n",
            "Epoch 15/100\n",
            "3/3 [==============================] - 3s 1s/step - loss: 0.0995 - accuracy: 0.9792 - val_loss: 5.0989e-04 - val_accuracy: 1.0000\n",
            "Epoch 16/100\n",
            "3/3 [==============================] - 4s 1s/step - loss: 0.0126 - accuracy: 0.9896 - val_loss: 3.4371e-06 - val_accuracy: 1.0000\n",
            "Epoch 17/100\n",
            "3/3 [==============================] - 4s 1s/step - loss: 0.0397 - accuracy: 0.9896 - val_loss: 4.0233e-07 - val_accuracy: 1.0000\n",
            "Epoch 18/100\n",
            "3/3 [==============================] - 3s 1s/step - loss: 0.1195 - accuracy: 0.9688 - val_loss: 1.6888e-07 - val_accuracy: 1.0000\n",
            "Epoch 19/100\n",
            "3/3 [==============================] - 3s 1s/step - loss: 0.2807 - accuracy: 0.9479 - val_loss: 7.6492e-07 - val_accuracy: 1.0000\n",
            "Epoch 20/100\n",
            "3/3 [==============================] - 5s 2s/step - loss: 0.2403 - accuracy: 0.9792 - val_loss: 4.5198e-06 - val_accuracy: 1.0000\n",
            "Epoch 21/100\n",
            "3/3 [==============================] - 3s 1s/step - loss: 0.0280 - accuracy: 0.9896 - val_loss: 2.5796e-05 - val_accuracy: 1.0000\n",
            "Epoch 22/100\n",
            "3/3 [==============================] - 3s 1s/step - loss: 0.0640 - accuracy: 0.9896 - val_loss: 5.5073e-05 - val_accuracy: 1.0000\n",
            "Epoch 23/100\n",
            "3/3 [==============================] - 4s 1s/step - loss: 0.0506 - accuracy: 0.9792 - val_loss: 1.6791e-04 - val_accuracy: 1.0000\n",
            "Epoch 24/100\n",
            "3/3 [==============================] - ETA: 0s - loss: 0.0111 - accuracy: 1.0000\n",
            "The accuracy has reached  > 99%\n",
            "3/3 [==============================] - 4s 1s/step - loss: 0.0111 - accuracy: 1.0000 - val_loss: 0.0016 - val_accuracy: 1.0000\n"
          ]
        }
      ],
      "source": [
        "# Train the model\n",
        "history = model.fit(train_generator, epochs=100, validation_data = validation_generator, callbacks=[callback])"
      ]
    },
    {
      "cell_type": "code",
      "execution_count": 19,
      "metadata": {
        "id": "YWKUFRd8vmss",
        "colab": {
          "base_uri": "https://localhost:8080/",
          "height": 927
        },
        "outputId": "7ac857f3-32fe-450c-d6d1-7d914250a589"
      },
      "outputs": [
        {
          "output_type": "display_data",
          "data": {
            "text/plain": [
              "<Figure size 640x480 with 1 Axes>"
            ],
            "image/png": "[encoded data removed]"
          },
          "metadata": {}
        },
        {
          "output_type": "display_data",
          "data": {
            "text/plain": [
              "<Figure size 640x480 with 1 Axes>"
            ],
            "image/png": "[encoded data removed]"
          },
          "metadata": {}
        }
      ],
      "source": [
        "plt.plot(history.history['accuracy'])\n",
        "plt.plot(history.history['val_accuracy'])\n",
        "plt.title('model_accuracy')\n",
        "plt.ylabel('accuracy')\n",
        "plt.xlabel('epochs')\n",
        "plt.legend(['train', 'validation'])\n",
        "plt.show()\n",
        "\n",
        "plt.plot(history.history['loss'])\n",
        "plt.plot(history.history['val_loss'])\n",
        "plt.title('model_loss')\n",
        "plt.ylabel('accuracy')\n",
        "plt.xlabel('epochs')\n",
        "plt.legend(['loss', 'val_loss'])\n",
        "plt.show()"
      ]
    },
    {
      "cell_type": "code",
      "source": [
        "from google.colab import files\n",
        "from tensorflow.keras.utils import load_img, img_to_array\n",
        "\n",
        "classes = [\"Bacterial leaf blight\", \"Brown spot\", \"Leaf smut\"]\n",
        "\n",
        "uploaded = files.upload()\n",
        "\n",
        "for fn in uploaded.keys():\n",
        "\n",
        "  # predicting images\n",
        "  path = fn\n",
        "  img = load_img(path, target_size=(224, 224))\n",
        "  x = img_to_array(img) / 255.0\n",
        "  x = np.expand_dims(x, axis=0)\n",
        "\n",
        "  images = np.vstack([x])\n",
        "  output = model.predict(images)\n",
        "  best_index = np.argmax(output)\n",
        "  print(fn)\n",
        "  print(output)\n",
        "  print(classes[best_index])"
      ],
      "metadata": {
        "colab": {
          "base_uri": "https://localhost:8080/",
          "height": 146
        },
        "id": "n1bs_pYexfPK",
        "outputId": "37b44876-e8ad-4b34-cbc7-c12fb96d3626"
      },
      "execution_count": 29,
      "outputs": [
        {
          "output_type": "display_data",
          "data": {
            "text/plain": [
              "<IPython.core.display.HTML object>"
            ],
            "text/html": [
              "\n",
              "     <input type=\"file\" id=\"files-f6fefac7-f346-420c-97b7-1606f497ad5d\" name=\"files[]\" multiple disabled\n",
              "        style=\"border:none\" />\n",
              "     <output id=\"result-f6fefac7-f346-420c-97b7-1606f497ad5d\">\n",
              "      Upload widget is only available when the cell has been executed in the\n",
              "      current browser session. Please rerun this cell to enable.\n",
              "      </output>\n",
              "      <script>// Copyright 2017 Google LLC\n",
              "//\n",
              "// Licensed under the Apache License, Version 2.0 (the \"License\");\n",
              "// you may not use this file except in compliance with the License.\n",
              "// You may obtain a copy of the License at\n",
              "//\n",
              "//      http://www.apache.org/licenses/LICENSE-2.0\n",
              "//\n",
              "// Unless required by applicable law or agreed to in writing, software\n",
              "// distributed under the License is distributed on an \"AS IS\" BASIS,\n",
              "// WITHOUT WARRANTIES OR CONDITIONS OF ANY KIND, either express or implied.\n",
              "// See the License for the specific language governing permissions and\n",
              "// limitations under the License.\n",
              "\n",
              "/**\n",
              " * @fileoverview Helpers for google.colab Python module.\n",
              " */\n",
              "(function(scope) {\n",
              "function span(text, styleAttributes = {}) {\n",
              "  const element = document.createElement('span');\n",
              "  element.textContent = text;\n",
              "  for (const key of Object.keys(styleAttributes)) {\n",
              "    element.style[key] = styleAttributes[key];\n",
              "  }\n",
              "  return element;\n",
              "}\n",
              "\n",
              "// Max number of bytes which will be uploaded at a time.\n",
              "const MAX_PAYLOAD_SIZE = 100 * 1024;\n",
              "\n",
              "function _uploadFiles(inputId, outputId) {\n",
              "  const steps = uploadFilesStep(inputId, outputId);\n",
              "  const outputElement = document.getElementById(outputId);\n",
              "  // Cache steps on the outputElement to make it available for the next call\n",
              "  // to uploadFilesContinue from Python.\n",
              "  outputElement.steps = steps;\n",
              "\n",
              "  return _uploadFilesContinue(outputId);\n",
              "}\n",
              "\n",
              "// This is roughly an async generator (not supported in the browser yet),\n",
              "// where there are multiple asynchronous steps and the Python side is going\n",
              "// to poll for completion of each step.\n",
              "// This uses a Promise to block the python side on completion of each step,\n",
              "// then passes the result of the previous step as the input to the next step.\n",
              "function _uploadFilesContinue(outputId) {\n",
              "  const outputElement = document.getElementById(outputId);\n",
              "  const steps = outputElement.steps;\n",
              "\n",
              "  const next = steps.next(outputElement.lastPromiseValue);\n",
              "  return Promise.resolve(next.value.promise).then((value) => {\n",
              "    // Cache the last promise value to make it available to the next\n",
              "    // step of the generator.\n",
              "    outputElement.lastPromiseValue = value;\n",
              "    return next.value.response;\n",
              "  });\n",
              "}\n",
              "\n",
              "/**\n",
              " * Generator function which is called between each async step of the upload\n",
              " * process.\n",
              " * @param {string} inputId Element ID of the input file picker element.\n",
              " * @param {string} outputId Element ID of the output display.\n",
              " * @return {!Iterable<!Object>} Iterable of next steps.\n",
              " */\n",
              "function* uploadFilesStep(inputId, outputId) {\n",
              "  const inputElement = document.getElementById(inputId);\n",
              "  inputElement.disabled = false;\n",
              "\n",
              "  const outputElement = document.getElementById(outputId);\n",
              "  outputElement.innerHTML = '';\n",
              "\n",
              "  const pickedPromise = new Promise((resolve) => {\n",
              "    inputElement.addEventListener('change', (e) => {\n",
              "      resolve(e.target.files);\n",
              "    });\n",
              "  });\n",
              "\n",
              "  const cancel = document.createElement('button');\n",
              "  inputElement.parentElement.appendChild(cancel);\n",
              "  cancel.textContent = 'Cancel upload';\n",
              "  const cancelPromise = new Promise((resolve) => {\n",
              "    cancel.onclick = () => {\n",
              "      resolve(null);\n",
              "    };\n",
              "  });\n",
              "\n",
              "  // Wait for the user to pick the files.\n",
              "  const files = yield {\n",
              "    promise: Promise.race([pickedPromise, cancelPromise]),\n",
              "    response: {\n",
              "      action: 'starting',\n",
              "    }\n",
              "  };\n",
              "\n",
              "  cancel.remove();\n",
              "\n",
              "  // Disable the input element since further picks are not allowed.\n",
              "  inputElement.disabled = true;\n",
              "\n",
              "  if (!files) {\n",
              "    return {\n",
              "      response: {\n",
              "        action: 'complete',\n",
              "      }\n",
              "    };\n",
              "  }\n",
              "\n",
              "  for (const file of files) {\n",
              "    const li = document.createElement('li');\n",
              "    li.append(span(file.name, {fontWeight: 'bold'}));\n",
              "    li.append(span(\n",
              "        `(${file.type || 'n/a'}) - ${file.size} bytes, ` +\n",
              "        `last modified: ${\n",
              "            file.lastModifiedDate ? file.lastModifiedDate.toLocaleDateString() :\n",
              "                                    'n/a'} - `));\n",
              "    const percent = span('0% done');\n",
              "    li.appendChild(percent);\n",
              "\n",
              "    outputElement.appendChild(li);\n",
              "\n",
              "    const fileDataPromise = new Promise((resolve) => {\n",
              "      const reader = new FileReader();\n",
              "      reader.onload = (e) => {\n",
              "        resolve(e.target.result);\n",
              "      };\n",
              "      reader.readAsArrayBuffer(file);\n",
              "    });\n",
              "    // Wait for the data to be ready.\n",
              "    let fileData = yield {\n",
              "      promise: fileDataPromise,\n",
              "      response: {\n",
              "        action: 'continue',\n",
              "      }\n",
              "    };\n",
              "\n",
              "    // Use a chunked sending to avoid message size limits. See b/62115660.\n",
              "    let position = 0;\n",
              "    do {\n",
              "      const length = Math.min(fileData.byteLength - position, MAX_PAYLOAD_SIZE);\n",
              "      const chunk = new Uint8Array(fileData, position, length);\n",
              "      position += length;\n",
              "\n",
              "      const base64 = btoa(String.fromCharCode.apply(null, chunk));\n",
              "      yield {\n",
              "        response: {\n",
              "          action: 'append',\n",
              "          file: file.name,\n",
              "          data: base64,\n",
              "        },\n",
              "      };\n",
              "\n",
              "      let percentDone = fileData.byteLength === 0 ?\n",
              "          100 :\n",
              "          Math.round((position / fileData.byteLength) * 100);\n",
              "      percent.textContent = `${percentDone}% done`;\n",
              "\n",
              "    } while (position < fileData.byteLength);\n",
              "  }\n",
              "\n",
              "  // All done.\n",
              "  yield {\n",
              "    response: {\n",
              "      action: 'complete',\n",
              "    }\n",
              "  };\n",
              "}\n",
              "\n",
              "scope.google = scope.google || {};\n",
              "scope.google.colab = scope.google.colab || {};\n",
              "scope.google.colab._files = {\n",
              "  _uploadFiles,\n",
              "  _uploadFilesContinue,\n",
              "};\n",
              "})(self);\n",
              "</script> "
            ]
          },
          "metadata": {}
        },
        {
          "output_type": "stream",
          "name": "stdout",
          "text": [
            "Saving DSC_0403.JPG to DSC_0403.JPG\n",
            "1/1 [==============================] - 0s 31ms/step\n",
            "DSC_0403.JPG\n",
            "[[1.0000000e+00 2.0060569e-22 1.3414806e-22]]\n",
            "Bacterial leaf blight\n"
          ]
        }
      ]
    },
    {
      "cell_type": "code",
      "source": [
        "!mkdir -p saved_model_h5\n",
        "model.save('saved_model_h5/saved_model_2_fix_100%.h5')"
      ],
      "metadata": {
        "colab": {
          "base_uri": "https://localhost:8080/"
        },
        "id": "Y-GPwc5RyBMR",
        "outputId": "68a1fc59-01b1-4d5c-d6e9-a3b89ba52304"
      },
      "execution_count": 30,
      "outputs": [
        {
          "output_type": "stream",
          "name": "stderr",
          "text": [
            "/usr/local/lib/python3.10/dist-packages/keras/src/engine/training.py:3079: UserWarning: You are saving your model as an HDF5 file via `model.save()`. This file format is considered legacy. We recommend using instead the native Keras format, e.g. `model.save('my_model.keras')`.\n",
            "  saving_api.save_model(\n"
          ]
        }
      ]
    }
  ],
  "metadata": {
    "accelerator": "GPU",
    "colab": {
      "provenance": [],
      "gpuType": "T4"
    },
    "kernelspec": {
      "display_name": "Python 3",
      "name": "python3"
    },
    "language_info": {
      "name": "python"
    }
  },
  "nbformat": 4,
  "nbformat_minor": 0
}